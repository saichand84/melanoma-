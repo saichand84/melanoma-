{
 "cells": [
  {
   "cell_type": "code",
   "execution_count": 2,
   "id": "736c4750",
   "metadata": {},
   "outputs": [],
   "source": [
    "import numpy as np \n",
    "from tqdm import tqdm\n",
    "import cv2\n",
    "import os\n",
    "import shutil\n",
    "import itertools\n",
    "#import imutils\n",
    "import matplotlib.pyplot as plt\n",
    "from sklearn.preprocessing import LabelBinarizer\n",
    "from sklearn.model_selection import train_test_split\n",
    "from sklearn.metrics import accuracy_score, confusion_matrix"
   ]
  },
  {
   "cell_type": "code",
   "execution_count": 3,
   "id": "900dd824",
   "metadata": {},
   "outputs": [],
   "source": [
    "\n",
    "x = './data/train/malignant'\n",
    "y  = './data/train/benign'"
   ]
  },
  {
   "cell_type": "code",
   "execution_count": 4,
   "id": "16ff5f36",
   "metadata": {},
   "outputs": [],
   "source": [
    "import matplotlib.pyplot as plt\n",
    "import numpy as np\n",
    "import os\n",
    "import PIL\n",
    "import tensorflow as tf\n",
    "from tensorflow import keras\n",
    "from tensorflow.keras import layers\n",
    "from tensorflow.python.keras.layers import Dense, Flatten\n",
    "from tensorflow.keras.models import Sequential\n",
    "from tensorflow.keras.optimizers import Adam\n",
    "from tensorflow.keras.preprocessing.image import ImageDataGenerator\n",
    "\n",
    "from glob import glob\n",
    "from tensorflow.keras import backend as K\n",
    "import gc\n",
    "\n",
    "from tensorflow.keras.callbacks import Callback, ModelCheckpoint, ReduceLROnPlateau, TensorBoard\n",
    "from sklearn.model_selection import train_test_split\n",
    "from sklearn.metrics import cohen_kappa_score, accuracy_score\n",
    "import scipy\n",
    "from tqdm import tqdm"
   ]
  },
  {
   "cell_type": "code",
   "execution_count": 5,
   "id": "9cef793c",
   "metadata": {},
   "outputs": [],
   "source": [
    "SIZE=256\n",
    "base_model = keras.applications.vgg19.VGG19(input_shape=(SIZE,SIZE,3),include_top=False,weights='imagenet')"
   ]
  },
  {
   "cell_type": "code",
   "execution_count": 6,
   "id": "5da85c48",
   "metadata": {},
   "outputs": [
    {
     "name": "stdout",
     "output_type": "stream",
     "text": [
      "Model: \"vgg19\"\n",
      "_________________________________________________________________\n",
      "Layer (type)                 Output Shape              Param #   \n",
      "=================================================================\n",
      "input_1 (InputLayer)         [(None, 256, 256, 3)]     0         \n",
      "_________________________________________________________________\n",
      "block1_conv1 (Conv2D)        (None, 256, 256, 64)      1792      \n",
      "_________________________________________________________________\n",
      "block1_conv2 (Conv2D)        (None, 256, 256, 64)      36928     \n",
      "_________________________________________________________________\n",
      "block1_pool (MaxPooling2D)   (None, 128, 128, 64)      0         \n",
      "_________________________________________________________________\n",
      "block2_conv1 (Conv2D)        (None, 128, 128, 128)     73856     \n",
      "_________________________________________________________________\n",
      "block2_conv2 (Conv2D)        (None, 128, 128, 128)     147584    \n",
      "_________________________________________________________________\n",
      "block2_pool (MaxPooling2D)   (None, 64, 64, 128)       0         \n",
      "_________________________________________________________________\n",
      "block3_conv1 (Conv2D)        (None, 64, 64, 256)       295168    \n",
      "_________________________________________________________________\n",
      "block3_conv2 (Conv2D)        (None, 64, 64, 256)       590080    \n",
      "_________________________________________________________________\n",
      "block3_conv3 (Conv2D)        (None, 64, 64, 256)       590080    \n",
      "_________________________________________________________________\n",
      "block3_conv4 (Conv2D)        (None, 64, 64, 256)       590080    \n",
      "_________________________________________________________________\n",
      "block3_pool (MaxPooling2D)   (None, 32, 32, 256)       0         \n",
      "_________________________________________________________________\n",
      "block4_conv1 (Conv2D)        (None, 32, 32, 512)       1180160   \n",
      "_________________________________________________________________\n",
      "block4_conv2 (Conv2D)        (None, 32, 32, 512)       2359808   \n",
      "_________________________________________________________________\n",
      "block4_conv3 (Conv2D)        (None, 32, 32, 512)       2359808   \n",
      "_________________________________________________________________\n",
      "block4_conv4 (Conv2D)        (None, 32, 32, 512)       2359808   \n",
      "_________________________________________________________________\n",
      "block4_pool (MaxPooling2D)   (None, 16, 16, 512)       0         \n",
      "_________________________________________________________________\n",
      "block5_conv1 (Conv2D)        (None, 16, 16, 512)       2359808   \n",
      "_________________________________________________________________\n",
      "block5_conv2 (Conv2D)        (None, 16, 16, 512)       2359808   \n",
      "_________________________________________________________________\n",
      "block5_conv3 (Conv2D)        (None, 16, 16, 512)       2359808   \n",
      "_________________________________________________________________\n",
      "block5_conv4 (Conv2D)        (None, 16, 16, 512)       2359808   \n",
      "_________________________________________________________________\n",
      "block5_pool (MaxPooling2D)   (None, 8, 8, 512)         0         \n",
      "=================================================================\n",
      "Total params: 20,024,384\n",
      "Trainable params: 20,024,384\n",
      "Non-trainable params: 0\n",
      "_________________________________________________________________\n"
     ]
    }
   ],
   "source": [
    "base_model.summary()"
   ]
  },
  {
   "cell_type": "code",
   "execution_count": 7,
   "id": "6de7f2cb",
   "metadata": {},
   "outputs": [
    {
     "name": "stdout",
     "output_type": "stream",
     "text": [
      "Model: \"vgg19\"\n",
      "_________________________________________________________________\n",
      "Layer (type)                 Output Shape              Param #   \n",
      "=================================================================\n",
      "input_1 (InputLayer)         [(None, 256, 256, 3)]     0         \n",
      "_________________________________________________________________\n",
      "block1_conv1 (Conv2D)        (None, 256, 256, 64)      1792      \n",
      "_________________________________________________________________\n",
      "block1_conv2 (Conv2D)        (None, 256, 256, 64)      36928     \n",
      "_________________________________________________________________\n",
      "block1_pool (MaxPooling2D)   (None, 128, 128, 64)      0         \n",
      "_________________________________________________________________\n",
      "block2_conv1 (Conv2D)        (None, 128, 128, 128)     73856     \n",
      "_________________________________________________________________\n",
      "block2_conv2 (Conv2D)        (None, 128, 128, 128)     147584    \n",
      "_________________________________________________________________\n",
      "block2_pool (MaxPooling2D)   (None, 64, 64, 128)       0         \n",
      "_________________________________________________________________\n",
      "block3_conv1 (Conv2D)        (None, 64, 64, 256)       295168    \n",
      "_________________________________________________________________\n",
      "block3_conv2 (Conv2D)        (None, 64, 64, 256)       590080    \n",
      "_________________________________________________________________\n",
      "block3_conv3 (Conv2D)        (None, 64, 64, 256)       590080    \n",
      "_________________________________________________________________\n",
      "block3_conv4 (Conv2D)        (None, 64, 64, 256)       590080    \n",
      "_________________________________________________________________\n",
      "block3_pool (MaxPooling2D)   (None, 32, 32, 256)       0         \n",
      "_________________________________________________________________\n",
      "block4_conv1 (Conv2D)        (None, 32, 32, 512)       1180160   \n",
      "_________________________________________________________________\n",
      "block4_conv2 (Conv2D)        (None, 32, 32, 512)       2359808   \n",
      "_________________________________________________________________\n",
      "block4_conv3 (Conv2D)        (None, 32, 32, 512)       2359808   \n",
      "_________________________________________________________________\n",
      "block4_conv4 (Conv2D)        (None, 32, 32, 512)       2359808   \n",
      "_________________________________________________________________\n",
      "block4_pool (MaxPooling2D)   (None, 16, 16, 512)       0         \n",
      "_________________________________________________________________\n",
      "block5_conv1 (Conv2D)        (None, 16, 16, 512)       2359808   \n",
      "_________________________________________________________________\n",
      "block5_conv2 (Conv2D)        (None, 16, 16, 512)       2359808   \n",
      "_________________________________________________________________\n",
      "block5_conv3 (Conv2D)        (None, 16, 16, 512)       2359808   \n",
      "_________________________________________________________________\n",
      "block5_conv4 (Conv2D)        (None, 16, 16, 512)       2359808   \n",
      "_________________________________________________________________\n",
      "block5_pool (MaxPooling2D)   (None, 8, 8, 512)         0         \n",
      "=================================================================\n",
      "Total params: 20,024,384\n",
      "Trainable params: 0\n",
      "Non-trainable params: 20,024,384\n",
      "_________________________________________________________________\n"
     ]
    }
   ],
   "source": [
    "base_model.trainable = False\n",
    "base_model.summary()"
   ]
  },
  {
   "cell_type": "code",
   "execution_count": 8,
   "id": "e422977c",
   "metadata": {},
   "outputs": [],
   "source": [
    "from tensorflow.keras import regularizers\n",
    "\n",
    "inputs = keras.Input(shape=(SIZE,SIZE,3))\n",
    "x = keras.applications.vgg19.preprocess_input(inputs)\n",
    "x = base_model(x, training=False)\n",
    "x = layers.GlobalAveragePooling2D()(x)\n",
    "x = layers.Flatten()(x)\n",
    "x = layers.Dense(128, activation='relu',kernel_regularizer=regularizers.l2(0.003))(x)\n",
    "x = layers.Dropout(0.35)(x)\n",
    "x = layers.Dense(64, activation='relu',kernel_regularizer=regularizers.l2(0.003))(x)\n",
    "x = layers.Dropout(0.35)(x)\n",
    "outputs = layers.Dense(1, activation='sigmoid')(x)"
   ]
  },
  {
   "cell_type": "code",
   "execution_count": 9,
   "id": "75807b77",
   "metadata": {},
   "outputs": [
    {
     "name": "stdout",
     "output_type": "stream",
     "text": [
      "Model: \"functional_1\"\n",
      "_________________________________________________________________\n",
      "Layer (type)                 Output Shape              Param #   \n",
      "=================================================================\n",
      "input_2 (InputLayer)         [(None, 256, 256, 3)]     0         \n",
      "_________________________________________________________________\n",
      "tf_op_layer_strided_slice (T [(None, 256, 256, 3)]     0         \n",
      "_________________________________________________________________\n",
      "tf_op_layer_BiasAdd (TensorF [(None, 256, 256, 3)]     0         \n",
      "_________________________________________________________________\n",
      "vgg19 (Functional)           (None, 8, 8, 512)         20024384  \n",
      "_________________________________________________________________\n",
      "global_average_pooling2d (Gl (None, 512)               0         \n",
      "_________________________________________________________________\n",
      "flatten (Flatten)            (None, 512)               0         \n",
      "_________________________________________________________________\n",
      "dense (Dense)                (None, 128)               65664     \n",
      "_________________________________________________________________\n",
      "dropout (Dropout)            (None, 128)               0         \n",
      "_________________________________________________________________\n",
      "dense_1 (Dense)              (None, 64)                8256      \n",
      "_________________________________________________________________\n",
      "dropout_1 (Dropout)          (None, 64)                0         \n",
      "_________________________________________________________________\n",
      "dense_2 (Dense)              (None, 1)                 65        \n",
      "=================================================================\n",
      "Total params: 20,098,369\n",
      "Trainable params: 73,985\n",
      "Non-trainable params: 20,024,384\n",
      "_________________________________________________________________\n"
     ]
    }
   ],
   "source": [
    "model = keras.Model(inputs, outputs)\n",
    "model.summary()"
   ]
  },
  {
   "cell_type": "code",
   "execution_count": 10,
   "id": "28835bf0",
   "metadata": {},
   "outputs": [],
   "source": [
    "diretorio = './data/train/'"
   ]
  },
  {
   "cell_type": "code",
   "execution_count": 11,
   "id": "d5716cf9",
   "metadata": {},
   "outputs": [
    {
     "name": "stdout",
     "output_type": "stream",
     "text": [
      "Found 2637 files belonging to 2 classes.\n",
      "Using 2110 files for training.\n",
      "Found 2637 files belonging to 2 classes.\n",
      "Using 527 files for validation.\n"
     ]
    }
   ],
   "source": [
    "image_size = (SIZE, SIZE)\n",
    "batch_size = 32\n",
    "\n",
    "train_ds = tf.keras.preprocessing.image_dataset_from_directory(\n",
    "    diretorio,\n",
    "    validation_split=0.2,\n",
    "    subset=\"training\",\n",
    "    seed=1337,\n",
    "    image_size=image_size,\n",
    "    batch_size=batch_size,\n",
    ")\n",
    "val_ds = tf.keras.preprocessing.image_dataset_from_directory(\n",
    "    diretorio,\n",
    "    validation_split=0.2,\n",
    "    subset=\"validation\",\n",
    "    seed=1337,\n",
    "    image_size=image_size,\n",
    "    batch_size=batch_size,\n",
    ")"
   ]
  },
  {
   "cell_type": "code",
   "execution_count": 12,
   "id": "95987094",
   "metadata": {},
   "outputs": [],
   "source": [
    "model.compile(\n",
    "    optimizer=keras.optimizers.Adam(1e-3),\n",
    "    loss=\"binary_crossentropy\",\n",
    "    metrics=[\"accuracy\"],\n",
    ")"
   ]
  },
  {
   "cell_type": "code",
   "execution_count": 13,
   "id": "6a61d88b",
   "metadata": {},
   "outputs": [
    {
     "name": "stdout",
     "output_type": "stream",
     "text": [
      "Epoch 1/30\n",
      "66/66 [==============================] - 289s 4s/step - loss: 1.3188 - accuracy: 0.7318 - val_loss: 0.9993 - val_accuracy: 0.8368\n",
      "Epoch 2/30\n",
      "66/66 [==============================] - 249s 4s/step - loss: 0.9612 - accuracy: 0.8209 - val_loss: 0.8429 - val_accuracy: 0.8520\n",
      "Epoch 3/30\n",
      "66/66 [==============================] - 235s 4s/step - loss: 0.8193 - accuracy: 0.8336 - val_loss: 0.7378 - val_accuracy: 0.8520\n",
      "Epoch 4/30\n",
      "66/66 [==============================] - 232s 4s/step - loss: 0.7353 - accuracy: 0.8408 - val_loss: 0.6703 - val_accuracy: 0.8710\n",
      "Epoch 5/30\n",
      "66/66 [==============================] - 232s 4s/step - loss: 0.6417 - accuracy: 0.8588 - val_loss: 0.6106 - val_accuracy: 0.8786\n",
      "Epoch 6/30\n",
      "66/66 [==============================] - 232s 4s/step - loss: 0.6039 - accuracy: 0.8602 - val_loss: 0.5818 - val_accuracy: 0.8577\n",
      "Epoch 7/30\n",
      "66/66 [==============================] - 245s 4s/step - loss: 0.5412 - accuracy: 0.8711 - val_loss: 0.5452 - val_accuracy: 0.8653\n",
      "Epoch 8/30\n",
      "66/66 [==============================] - 249s 4s/step - loss: 0.5114 - accuracy: 0.8720 - val_loss: 0.5365 - val_accuracy: 0.8463\n",
      "Epoch 9/30\n",
      "66/66 [==============================] - 250s 4s/step - loss: 0.4840 - accuracy: 0.8782 - val_loss: 0.4989 - val_accuracy: 0.8691\n",
      "Epoch 10/30\n",
      "66/66 [==============================] - 246s 4s/step - loss: 0.4497 - accuracy: 0.8839 - val_loss: 0.4873 - val_accuracy: 0.8748\n",
      "Epoch 11/30\n",
      "66/66 [==============================] - 252s 4s/step - loss: 0.4429 - accuracy: 0.8858 - val_loss: 0.4686 - val_accuracy: 0.8861\n",
      "Epoch 12/30\n",
      "66/66 [==============================] - 246s 4s/step - loss: 0.4119 - accuracy: 0.8900 - val_loss: 0.4746 - val_accuracy: 0.8805\n",
      "Epoch 13/30\n",
      "66/66 [==============================] - 325s 5s/step - loss: 0.3889 - accuracy: 0.9019 - val_loss: 0.4521 - val_accuracy: 0.8861\n",
      "Epoch 14/30\n",
      "66/66 [==============================] - 371s 6s/step - loss: 0.3725 - accuracy: 0.8967 - val_loss: 0.4350 - val_accuracy: 0.8634\n",
      "Epoch 15/30\n",
      "66/66 [==============================] - 246s 4s/step - loss: 0.3603 - accuracy: 0.9076 - val_loss: 0.4337 - val_accuracy: 0.8729\n",
      "Epoch 16/30\n",
      "66/66 [==============================] - 247s 4s/step - loss: 0.3478 - accuracy: 0.9052 - val_loss: 0.4359 - val_accuracy: 0.8558\n",
      "Epoch 17/30\n",
      "66/66 [==============================] - 244s 4s/step - loss: 0.3452 - accuracy: 0.9047 - val_loss: 0.4415 - val_accuracy: 0.8520\n",
      "Epoch 18/30\n",
      "66/66 [==============================] - 249s 4s/step - loss: 0.3223 - accuracy: 0.9204 - val_loss: 0.4451 - val_accuracy: 0.8748\n",
      "Epoch 19/30\n",
      "66/66 [==============================] - 237s 4s/step - loss: 0.3163 - accuracy: 0.9147 - val_loss: 0.4458 - val_accuracy: 0.8748\n",
      "Epoch 20/30\n",
      "66/66 [==============================] - 232s 4s/step - loss: 0.3086 - accuracy: 0.9194 - val_loss: 0.4301 - val_accuracy: 0.8880\n",
      "Epoch 21/30\n",
      "66/66 [==============================] - 237s 4s/step - loss: 0.2998 - accuracy: 0.9180 - val_loss: 0.4325 - val_accuracy: 0.8710\n",
      "Epoch 22/30\n",
      "66/66 [==============================] - 232s 4s/step - loss: 0.2935 - accuracy: 0.9265 - val_loss: 0.4206 - val_accuracy: 0.8729\n",
      "Epoch 23/30\n",
      "66/66 [==============================] - 233s 4s/step - loss: 0.2880 - accuracy: 0.9256 - val_loss: 0.4525 - val_accuracy: 0.8596\n",
      "Epoch 24/30\n",
      "66/66 [==============================] - 230s 3s/step - loss: 0.2972 - accuracy: 0.9185 - val_loss: 0.4269 - val_accuracy: 0.8805\n",
      "Epoch 25/30\n",
      "66/66 [==============================] - 240s 4s/step - loss: 0.2854 - accuracy: 0.9223 - val_loss: 0.4326 - val_accuracy: 0.8710\n",
      "Epoch 26/30\n",
      "66/66 [==============================] - 227s 3s/step - loss: 0.2700 - accuracy: 0.9265 - val_loss: 0.4483 - val_accuracy: 0.8767\n",
      "Epoch 27/30\n",
      "66/66 [==============================] - 230s 3s/step - loss: 0.2687 - accuracy: 0.9308 - val_loss: 0.4382 - val_accuracy: 0.8653\n",
      "Epoch 28/30\n",
      "66/66 [==============================] - 234s 4s/step - loss: 0.2539 - accuracy: 0.9341 - val_loss: 0.4497 - val_accuracy: 0.8691\n",
      "Epoch 29/30\n",
      "66/66 [==============================] - 244s 4s/step - loss: 0.2774 - accuracy: 0.9270 - val_loss: 0.4269 - val_accuracy: 0.8653\n",
      "Epoch 30/30\n",
      "66/66 [==============================] - 242s 4s/step - loss: 0.2573 - accuracy: 0.9318 - val_loss: 0.4489 - val_accuracy: 0.8691\n"
     ]
    }
   ],
   "source": [
    "epochs = 30\n",
    "history = model.fit(\n",
    "    train_ds, epochs=epochs, validation_data=val_ds,\n",
    ")"
   ]
  },
  {
   "cell_type": "code",
   "execution_count": 14,
   "id": "704e2b7c",
   "metadata": {},
   "outputs": [
    {
     "data": {
      "image/png": "[encoded data removed]",
      "text/plain": [
       "<Figure size 432x288 with 1 Axes>"
      ]
     },
     "metadata": {
      "needs_background": "light"
     },
     "output_type": "display_data"
    }
   ],
   "source": [
    "fig1 = plt.gcf()\n",
    "plt.plot(history.history['accuracy'])\n",
    "plt.plot(history.history['val_accuracy'])\n",
    "plt.axis(ymin=0.4,ymax=1)\n",
    "plt.grid()\n",
    "plt.title('Model Accuracy')\n",
    "plt.ylabel('Accuracy')\n",
    "plt.xlabel('Epochs')\n",
    "plt.legend(['train', 'validation'])\n",
    "plt.show()"
   ]
  },
  {
   "cell_type": "code",
   "execution_count": 15,
   "id": "855dc9cd",
   "metadata": {},
   "outputs": [
    {
     "data": {
      "image/png": "[encoded data removed]",
      "text/plain": [
       "<Figure size 432x288 with 1 Axes>"
      ]
     },
     "metadata": {
      "needs_background": "light"
     },
     "output_type": "display_data"
    }
   ],
   "source": [
    "plt.plot(history.history['loss'])\n",
    "plt.plot(history.history['val_loss'])\n",
    "plt.grid()\n",
    "plt.title('Model Loss')\n",
    "plt.ylabel('Loss')\n",
    "plt.xlabel('Epochs')\n",
    "plt.legend(['train', 'validation'])\n",
    "plt.show()"
   ]
  },
  {
   "cell_type": "code",
   "execution_count": 141,
   "id": "7dc2b3cb",
   "metadata": {},
   "outputs": [
    {
     "name": "stdout",
     "output_type": "stream",
     "text": [
      "(1, 256, 256, 3)\n"
     ]
    }
   ],
   "source": [
    "import cv2\n",
    "#inp = r\"/content/drive/MyDrive/code/data/test/melanoma/ISIC_0014766.jpg\"\n",
    "#inp = \"../../code/data/train/melanoma/ISIC_0000029.jpg\"\n",
    "inp = r\"./test/benign/1074.jpg\"\n",
    "\n",
    "\n",
    "image=cv2.imread(inp)\n",
    "image_resized= cv2.resize(image, (256,256))\n",
    "image=np.expand_dims(image_resized,axis=0)\n",
    "print(image.shape)"
   ]
  },
  {
   "cell_type": "code",
   "execution_count": 142,
   "id": "64030309",
   "metadata": {},
   "outputs": [
    {
     "name": "stdout",
     "output_type": "stream",
     "text": [
      "[[0.09033343]]\n"
     ]
    }
   ],
   "source": [
    "CATEGORIES = [\"BENIGN\",\"MALIGNANT\"]\n",
    "pred=model.predict(image)\n",
    "print(pred)"
   ]
  },
  {
   "cell_type": "code",
   "execution_count": 143,
   "id": "63b34c28",
   "metadata": {},
   "outputs": [
    {
     "data": {
      "text/plain": [
       "0"
      ]
     },
     "execution_count": 143,
     "metadata": {},
     "output_type": "execute_result"
    }
   ],
   "source": [
    "def find_class(result):\n",
    "    if result >= 0.5:\n",
    "        return 1\n",
    "    else:\n",
    "        return 0\n",
    "\n",
    "find_class(pred[0])"
   ]
  },
  {
   "cell_type": "code",
   "execution_count": 144,
   "id": "11865c26",
   "metadata": {},
   "outputs": [
    {
     "name": "stdout",
     "output_type": "stream",
     "text": [
      "The predicted class is BENIGN\n"
     ]
    }
   ],
   "source": [
    "output_class=CATEGORIES[find_class(pred[0])]\n",
    "print(\"The predicted class is\", output_class)"
   ]
  },
  {
   "cell_type": "code",
   "execution_count": null,
   "id": "d7869fdd",
   "metadata": {},
   "outputs": [],
   "source": []
  },
  {
   "cell_type": "code",
   "execution_count": 158,
   "id": "c801cf20",
   "metadata": {},
   "outputs": [],
   "source": [
    "x_test=[]\n",
    "test_path = \"./test\"\n",
    "\n",
    "for folder in os.listdir(test_path):\n",
    "\n",
    "    sub_path=test_path+\"/\"+folder\n",
    "\n",
    "    for img in os.listdir(sub_path):\n",
    "\n",
    "        image_path=sub_path+\"/\"+img\n",
    "\n",
    "        img_arr=cv2.imread(image_path)\n",
    "\n",
    "        img_arr=cv2.resize(img_arr,(224,224))\n",
    "\n",
    "        x_test.append(img_arr)"
   ]
  },
  {
   "cell_type": "code",
   "execution_count": 159,
   "id": "a933b680",
   "metadata": {},
   "outputs": [],
   "source": [
    "test_datagen = ImageDataGenerator(rescale = 1./255)"
   ]
  },
  {
   "cell_type": "code",
   "execution_count": 160,
   "id": "083bdb7c",
   "metadata": {},
   "outputs": [
    {
     "name": "stdout",
     "output_type": "stream",
     "text": [
      "Found 660 images belonging to 2 classes.\n"
     ]
    }
   ],
   "source": [
    "test_set = test_datagen.flow_from_directory(test_path,\n",
    "                                            target_size = (224, 224),\n",
    "                                            batch_size = 32,\n",
    "                                            class_mode = 'sparse')"
   ]
  },
  {
   "cell_type": "code",
   "execution_count": null,
   "id": "85c21960",
   "metadata": {},
   "outputs": [],
   "source": []
  },
  {
   "cell_type": "code",
   "execution_count": null,
   "id": "474668de",
   "metadata": {},
   "outputs": [],
   "source": []
  }
 ],
 "metadata": {
  "kernelspec": {
   "display_name": "Python 3",
   "language": "python",
   "name": "python3"
  },
  "language_info": {
   "codemirror_mode": {
    "name": "ipython",
    "version": 3
   },
   "file_extension": ".py",
   "mimetype": "text/x-python",
   "name": "python",
   "nbconvert_exporter": "python",
   "pygments_lexer": "ipython3",
   "version": "3.8.8"
  }
 },
 "nbformat": 4,
 "nbformat_minor": 5
}
